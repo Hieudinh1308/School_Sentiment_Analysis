{
 "cells": [
  {
   "cell_type": "code",
   "execution_count": 2,
   "metadata": {},
   "outputs": [
    {
     "name": "stdout",
     "output_type": "stream",
     "text": [
      "Defaulting to user installation because normal site-packages is not writeable\n",
      "Collecting pandas\n",
      "  Downloading pandas-2.1.4-cp310-cp310-manylinux_2_17_x86_64.manylinux2014_x86_64.whl (12.3 MB)\n",
      "\u001b[2K     \u001b[38;2;114;156;31m━━━━━━━━━━━━━━━━━━━━━━━━━━━━━━━━━━━━━━━━\u001b[0m \u001b[32m12.3/12.3 MB\u001b[0m \u001b[31m2.3 MB/s\u001b[0m eta \u001b[36m0:00:00\u001b[0mm eta \u001b[36m0:00:01\u001b[0m[36m0:00:01\u001b[0m\n",
      "\u001b[?25hRequirement already satisfied: numpy<2,>=1.22.4 in /home/hieudinhos/.local/lib/python3.10/site-packages (from pandas) (1.26.0)\n",
      "Requirement already satisfied: pytz>=2020.1 in /usr/lib/python3/dist-packages (from pandas) (2022.1)\n",
      "Collecting tzdata>=2022.1\n",
      "  Downloading tzdata-2023.4-py2.py3-none-any.whl (346 kB)\n",
      "\u001b[2K     \u001b[38;2;114;156;31m━━━━━━━━━━━━━━━━━━━━━━━━━━━━━━━━━━━━━━━\u001b[0m \u001b[32m346.6/346.6 KB\u001b[0m \u001b[31m1.8 MB/s\u001b[0m eta \u001b[36m0:00:00\u001b[0m MB/s\u001b[0m eta \u001b[36m0:00:01\u001b[0m:01\u001b[0m\n",
      "\u001b[?25hRequirement already satisfied: python-dateutil>=2.8.2 in /home/hieudinhos/.local/lib/python3.10/site-packages (from pandas) (2.8.2)\n",
      "Requirement already satisfied: six>=1.5 in /home/hieudinhos/.local/lib/python3.10/site-packages (from python-dateutil>=2.8.2->pandas) (1.16.0)\n",
      "Installing collected packages: tzdata, pandas\n",
      "Successfully installed pandas-2.1.4 tzdata-2023.4\n"
     ]
    }
   ],
   "source": [
    "!pip install pandas"
   ]
  },
  {
   "cell_type": "code",
   "execution_count": 4,
   "metadata": {},
   "outputs": [],
   "source": [
    "import pandas as pd\n",
    "import csv\n"
   ]
  },
  {
   "cell_type": "code",
   "execution_count": 5,
   "metadata": {},
   "outputs": [],
   "source": [
    "# Function to read text file and return its content as a list of lines\n",
    "def read_text_file(file_name):\n",
    "    with open(file_name, 'r') as file:\n",
    "        lines = file.readlines()\n",
    "    return lines\n",
    "\n",
    "# Function to write CSV file from list of lines\n",
    "def write_to_csv(file_name, lines):\n",
    "    with open(file_name, 'w', newline='') as file:\n",
    "        writer = csv.writer(file)\n",
    "        for line in lines:\n",
    "            writer.writerow([line.strip()])  # Write each line as a separate row in the CSV"
   ]
  },
  {
   "cell_type": "code",
   "execution_count": 15,
   "metadata": {},
   "outputs": [],
   "source": [
    "file_sent = read_text_file('data/test-20231230T132755Z-001/test/sents.txt')"
   ]
  },
  {
   "cell_type": "code",
   "execution_count": 16,
   "metadata": {},
   "outputs": [
    {
     "data": {
      "text/plain": [
       "['nói tiếng anh lưu loát .\\n',\n",
       " 'giáo viên rất vui tính .\\n',\n",
       " 'cô max có tâm .\\n',\n",
       " 'giảng bài thu hút , dí dỏm .\\n',\n",
       " 'giáo viên không giảng dạy kiến thức , hướng dẫn thực hành trong quá trình học .\\n']"
      ]
     },
     "execution_count": 16,
     "metadata": {},
     "output_type": "execute_result"
    }
   ],
   "source": [
    "file_sent[:5]"
   ]
  },
  {
   "cell_type": "code",
   "execution_count": 17,
   "metadata": {},
   "outputs": [],
   "source": [
    "file_topic = read_text_file('data/test-20231230T132755Z-001/test/topics.txt')"
   ]
  },
  {
   "cell_type": "code",
   "execution_count": 20,
   "metadata": {},
   "outputs": [
    {
     "data": {
      "text/plain": [
       "['0\\n', '0\\n', '0\\n', '0\\n', '0\\n']"
      ]
     },
     "execution_count": 20,
     "metadata": {},
     "output_type": "execute_result"
    }
   ],
   "source": [
    "file_topic[:5]"
   ]
  },
  {
   "cell_type": "code",
   "execution_count": 34,
   "metadata": {},
   "outputs": [
    {
     "data": {
      "text/plain": [
       "list"
      ]
     },
     "execution_count": 34,
     "metadata": {},
     "output_type": "execute_result"
    }
   ],
   "source": [
    "type(file_topic)"
   ]
  },
  {
   "cell_type": "code",
   "execution_count": 23,
   "metadata": {},
   "outputs": [
    {
     "data": {
      "text/plain": [
       "(3166, 3166)"
      ]
     },
     "execution_count": 23,
     "metadata": {},
     "output_type": "execute_result"
    }
   ],
   "source": [
    "len(file_topic),len(file_sent)"
   ]
  },
  {
   "cell_type": "code",
   "execution_count": 33,
   "metadata": {},
   "outputs": [
    {
     "name": "stdout",
     "output_type": "stream",
     "text": [
      "chỉ có cơ sở vật chất trường còn hạn chế .\n",
      "\n",
      "phòng máy cũ , nhưng nhìn chung thì không có ảnh hưởng gì vì thầy dạy rất nhiệt tình .\n",
      "\n",
      "mạng khởi động lâu .\n",
      "\n",
      "cần phải có các thiết bị phục vụ cho môn học tốt hơn .\n",
      "\n",
      "cơ sở vật chất còn ảnh hưởng đến chất lượng môn học .\n",
      "\n",
      "nên nâng cấp hệ thống phòng thí nghiệm .\n",
      "\n",
      "145\n"
     ]
    }
   ],
   "source": [
    "count_facility_topic = 0\n",
    "for i in range(len(file_topic)):\n",
    "    if file_topic[i] == \"2\\n\" :\n",
    "        if i%20 == 0 : print(file_sent[i])\n",
    "        count_facility_topic +=1\n",
    "print(count_facility_topic)"
   ]
  },
  {
   "cell_type": "code",
   "execution_count": 39,
   "metadata": {},
   "outputs": [],
   "source": [
    "def filter_topic(topic,topic_reader,sent_reader):\n",
    "    ''' return len of the topic and topic has been filter '''\n",
    "\n",
    "    filtor_topic = []\n",
    "    for i in range(len(topic_reader)):\n",
    "        if topic_reader[i] == topic :\n",
    "            filtor_topic.append(sent_reader[i]) \n",
    "    return len(filtor_topic),filtor_topic"
   ]
  },
  {
   "cell_type": "code",
   "execution_count": 41,
   "metadata": {},
   "outputs": [
    {
     "data": {
      "text/plain": [
       "(2290,\n",
       " ['nói tiếng anh lưu loát .\\n',\n",
       "  'giáo viên rất vui tính .\\n',\n",
       "  'cô max có tâm .\\n',\n",
       "  'giảng bài thu hút , dí dỏm .\\n',\n",
       "  'giáo viên không giảng dạy kiến thức , hướng dẫn thực hành trong quá trình học .\\n'])"
      ]
     },
     "execution_count": 41,
     "metadata": {},
     "output_type": "execute_result"
    }
   ],
   "source": [
    "#path to testing data files\n",
    "file_topic = read_text_file('data/test-20231230T132755Z-001/test/topics.txt')\n",
    "file_sent = read_text_file('data/test-20231230T132755Z-001/test/sents.txt')"
   ]
  },
  {
   "cell_type": "code",
   "execution_count": 55,
   "metadata": {},
   "outputs": [
    {
     "name": "stdout",
     "output_type": "stream",
     "text": [
      "len of topic index 0\n",
      ":  2290 \n",
      "examples :  ['nói tiếng anh lưu loát .\\n', 'giáo viên rất vui tính .\\n', 'cô max có tâm .\\n', 'giảng bài thu hút , dí dỏm .\\n', 'giáo viên không giảng dạy kiến thức , hướng dẫn thực hành trong quá trình học .\\n']\n",
      "len of topic index 1\n",
      ":  572 \n",
      "examples :  ['tính điểm thi đua các nhóm .\\n', 'sinh viên không tiếp thu kịp cũng như không hiểu gì .\\n', 'còn những phần tìm bao đóng , chứng minh dạng chuẩn chưa làm rõ .\\n', 'giữa lý thuyết từ vựng với trò chơi để dễ tiếp thu .\\n', 'môn học này giúp chúng em hiểu ra những vấn đề cơ bản .\\n']\n",
      "len of topic index 2\n",
      ":  145 \n",
      "examples :  ['em học bên chất lượng cao mà phòng máy không cung cấp đủ máy ( vì máy hư hoặc không cài chương trình ) .\\n', 'phòng học thoáng mát , trang thiết bị đầy đủ .\\n', 'thiết bị phòng học như quạt máy cần phải đầu tư thêm .\\n', 'hiện nay đang bước vào đợt nắng nóng , nhưng trong môt số phòng học thì doubledot quạt rất yếu gây ra nóng nực , mệt mỏi cho sinh viên và giảng viên .\\n', 'máy chiếu nhiều lúc chẳng muốn để nhìn , chất lượng kém , ánh sáng làm mờ .\\n']\n",
      "len of topic index 3\n",
      ":  159 \n",
      "examples :  ['trong trường macbook thầy số hai thì không có máy nào số một .\\n', 'ổn .\\n', 'rất thực tế không dài dòng .\\n', 'học thì quá ít nhưng khi thi thì quá nhiều yêu cầu viết code trong đề thi thì sao mà sinh viên có thể làm được .\\n', 'sự nhiệt tình tận tâm .\\n']\n"
     ]
    }
   ],
   "source": [
    "#\t1. Each line is the topic label of the sentence. Values of a topic label are one of four topics such as:\n",
    "# \t\t'0' is a label related to the lecturer topic.\n",
    "#\n",
    "#\t\t'1' is a label related to the training program topic.\n",
    "#\n",
    "#\t\t'2' is a label related to the facility topic.\n",
    "#\n",
    "#\t\t'3' is a label related to others.\n",
    "import pandas as  pd\n",
    "\n",
    "df = pd.DataFrame()\n",
    "\n",
    "for topic_index in [\"0\\n\",\"1\\n\",\"2\\n\",\"3\\n\"] :\n",
    "    if topic_index == \"0\\n\" :\n",
    "        len_lecturer_topic , lecturer_topic_sent = filter_topic (topic_index,file_topic,file_sent)\n",
    "        print(f\"len of topic index {topic_index}: \",len_lecturer_topic,\"\\nexamples : \",lecturer_topic_sent[:5])\n",
    "        df['lecturer_topic'] = lecturer_topic_sent[:140]\n",
    "    elif topic_index == \"1\\n\" :\n",
    "        len_learning_program_topic , learning_program_sent = filter_topic (topic_index,file_topic,file_sent)\n",
    "        print(f\"len of topic index {topic_index}: \",len_learning_program_topic,\"\\nexamples : \",learning_program_sent[:5])\n",
    "        df['learning_program_topic'] = learning_program_sent[:140]\n",
    "    elif topic_index == \"2\\n\" :\n",
    "        len_facility_topic , facility_sent = filter_topic (topic_index,file_topic,file_sent)\n",
    "        print(f\"len of topic index {topic_index}: \",len_facility_topic,\"\\nexamples : \",facility_sent[:5])\n",
    "        df['facility_topic'] = facility_sent [:140]\n",
    "    else :\n",
    "        len_orther_topic , orther_sent = filter_topic (topic_index,file_topic,file_sent)\n",
    "        print(f\"len of topic index {topic_index}: \",len_orther_topic,\"\\nexamples : \",orther_sent[:5])\n",
    "        df['orther_topic'] = orther_sent [:140]"
   ]
  },
  {
   "cell_type": "code",
   "execution_count": 57,
   "metadata": {},
   "outputs": [
    {
     "data": {
      "text/html": [
       "<div>\n",
       "<style scoped>\n",
       "    .dataframe tbody tr th:only-of-type {\n",
       "        vertical-align: middle;\n",
       "    }\n",
       "\n",
       "    .dataframe tbody tr th {\n",
       "        vertical-align: top;\n",
       "    }\n",
       "\n",
       "    .dataframe thead th {\n",
       "        text-align: right;\n",
       "    }\n",
       "</style>\n",
       "<table border=\"1\" class=\"dataframe\">\n",
       "  <thead>\n",
       "    <tr style=\"text-align: right;\">\n",
       "      <th></th>\n",
       "      <th>lecturer_topic</th>\n",
       "      <th>learning_program_topic</th>\n",
       "      <th>facility_topic</th>\n",
       "      <th>orther_topic</th>\n",
       "    </tr>\n",
       "  </thead>\n",
       "  <tbody>\n",
       "    <tr>\n",
       "      <th>0</th>\n",
       "      <td>nói tiếng anh lưu loát .\\n</td>\n",
       "      <td>tính điểm thi đua các nhóm .\\n</td>\n",
       "      <td>em học bên chất lượng cao mà phòng máy không c...</td>\n",
       "      <td>trong trường macbook thầy số hai thì không có ...</td>\n",
       "    </tr>\n",
       "    <tr>\n",
       "      <th>1</th>\n",
       "      <td>giáo viên rất vui tính .\\n</td>\n",
       "      <td>sinh viên không tiếp thu kịp cũng như không hi...</td>\n",
       "      <td>phòng học thoáng mát , trang thiết bị đầy đủ .\\n</td>\n",
       "      <td>ổn .\\n</td>\n",
       "    </tr>\n",
       "    <tr>\n",
       "      <th>2</th>\n",
       "      <td>cô max có tâm .\\n</td>\n",
       "      <td>còn những phần tìm bao đóng , chứng minh dạng ...</td>\n",
       "      <td>thiết bị phòng học như quạt máy cần phải đầu t...</td>\n",
       "      <td>rất thực tế không dài dòng .\\n</td>\n",
       "    </tr>\n",
       "    <tr>\n",
       "      <th>3</th>\n",
       "      <td>giảng bài thu hút , dí dỏm .\\n</td>\n",
       "      <td>giữa lý thuyết từ vựng với trò chơi để dễ tiếp...</td>\n",
       "      <td>hiện nay đang bước vào đợt nắng nóng , nhưng t...</td>\n",
       "      <td>học thì quá ít nhưng khi thi thì quá nhiều yêu...</td>\n",
       "    </tr>\n",
       "    <tr>\n",
       "      <th>4</th>\n",
       "      <td>giáo viên không giảng dạy kiến thức , hướng dẫ...</td>\n",
       "      <td>môn học này giúp chúng em hiểu ra những vấn đề...</td>\n",
       "      <td>máy chiếu nhiều lúc chẳng muốn để nhìn , chất ...</td>\n",
       "      <td>sự nhiệt tình tận tâm .\\n</td>\n",
       "    </tr>\n",
       "  </tbody>\n",
       "</table>\n",
       "</div>"
      ],
      "text/plain": [
       "                                      lecturer_topic  \\\n",
       "0                         nói tiếng anh lưu loát .\\n   \n",
       "1                         giáo viên rất vui tính .\\n   \n",
       "2                                  cô max có tâm .\\n   \n",
       "3                     giảng bài thu hút , dí dỏm .\\n   \n",
       "4  giáo viên không giảng dạy kiến thức , hướng dẫ...   \n",
       "\n",
       "                              learning_program_topic  \\\n",
       "0                     tính điểm thi đua các nhóm .\\n   \n",
       "1  sinh viên không tiếp thu kịp cũng như không hi...   \n",
       "2  còn những phần tìm bao đóng , chứng minh dạng ...   \n",
       "3  giữa lý thuyết từ vựng với trò chơi để dễ tiếp...   \n",
       "4  môn học này giúp chúng em hiểu ra những vấn đề...   \n",
       "\n",
       "                                      facility_topic  \\\n",
       "0  em học bên chất lượng cao mà phòng máy không c...   \n",
       "1   phòng học thoáng mát , trang thiết bị đầy đủ .\\n   \n",
       "2  thiết bị phòng học như quạt máy cần phải đầu t...   \n",
       "3  hiện nay đang bước vào đợt nắng nóng , nhưng t...   \n",
       "4  máy chiếu nhiều lúc chẳng muốn để nhìn , chất ...   \n",
       "\n",
       "                                        orther_topic  \n",
       "0  trong trường macbook thầy số hai thì không có ...  \n",
       "1                                             ổn .\\n  \n",
       "2                     rất thực tế không dài dòng .\\n  \n",
       "3  học thì quá ít nhưng khi thi thì quá nhiều yêu...  \n",
       "4                          sự nhiệt tình tận tâm .\\n  "
      ]
     },
     "execution_count": 57,
     "metadata": {},
     "output_type": "execute_result"
    }
   ],
   "source": [
    "df[:5]"
   ]
  },
  {
   "cell_type": "code",
   "execution_count": 58,
   "metadata": {},
   "outputs": [],
   "source": [
    "df.to_csv(\"data-demo/demo.csv\")"
   ]
  },
  {
   "cell_type": "code",
   "execution_count": null,
   "metadata": {},
   "outputs": [],
   "source": []
  }
 ],
 "metadata": {
  "kernelspec": {
   "display_name": "Python 3",
   "language": "python",
   "name": "python3"
  },
  "language_info": {
   "codemirror_mode": {
    "name": "ipython",
    "version": 3
   },
   "file_extension": ".py",
   "mimetype": "text/x-python",
   "name": "python",
   "nbconvert_exporter": "python",
   "pygments_lexer": "ipython3",
   "version": "3.10.12"
  }
 },
 "nbformat": 4,
 "nbformat_minor": 2
}
