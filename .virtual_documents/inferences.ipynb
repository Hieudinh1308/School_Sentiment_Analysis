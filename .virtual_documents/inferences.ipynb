!pip install transformers





# Use a pipeline as a high-level helper
from transformers import pipeline

pipe = pipeline("text-classification", model="hieudinhpro/BERT_Sentiment_Vietnamese")


pipe("cơ sở vật chất cũng ổn")
